{
 "cells": [
  {
   "cell_type": "markdown",
   "id": "ee1a536e-7984-48cc-ab5e-b72c64154b2f",
   "metadata": {},
   "source": [
    "## Importing Modules"
   ]
  },
  {
   "cell_type": "code",
   "execution_count": 100,
   "id": "91d9ba08-f931-4846-857c-0dc74be4ec49",
   "metadata": {},
   "outputs": [],
   "source": [
    "import re\n",
    "import string\n",
    "import pandas as pd\n",
    "from sklearn.preprocessing import LabelEncoder"
   ]
  },
  {
   "cell_type": "markdown",
   "id": "1f5de20a-a50a-4015-a8a2-46e2eb661bb9",
   "metadata": {},
   "source": [
    "## Loading The Data"
   ]
  },
  {
   "cell_type": "code",
   "execution_count": 101,
   "id": "283e5187-c1d6-4045-bf5a-520ed2231712",
   "metadata": {},
   "outputs": [
    {
     "name": "stdout",
     "output_type": "stream",
     "text": [
      "     label                                            message\n",
      "0      ham  Go until jurong point, crazy.. Available only ...\n",
      "1      ham                      Ok lar... Joking wif u oni...\n",
      "2     spam  Free entry in 2 a wkly comp to win FA Cup fina...\n",
      "3      ham  U dun say so early hor... U c already then say...\n",
      "4      ham  Nah I don't think he goes to usf, he lives aro...\n",
      "...    ...                                                ...\n",
      "5569  spam  This is the 2nd time we have tried 2 contact u...\n",
      "5570   ham               Will ü b going to esplanade fr home?\n",
      "5571   ham  Pity, * was in mood for that. So...any other s...\n",
      "5572   ham  The guy did some bitching but I acted like i'd...\n",
      "5573   ham                         Rofl. Its true to its name\n",
      "\n",
      "[5574 rows x 2 columns]\n"
     ]
    }
   ],
   "source": [
    "messages = pd.read_csv('./data/SMSSpamCollection', sep='\\t', quoting=csv.QUOTE_NONE,\n",
    "                           names=[\"label\", \"message\"])\n",
    "print (messages)"
   ]
  },
  {
   "cell_type": "code",
   "execution_count": 102,
   "id": "12b9795f-047d-4995-adc1-f317bba04867",
   "metadata": {},
   "outputs": [],
   "source": [
    "messages_copy=messages"
   ]
  },
  {
   "cell_type": "markdown",
   "id": "d65ec65e-b9cc-4150-af15-802a36c1f01e",
   "metadata": {},
   "source": [
    "## Data Preprocessing"
   ]
  },
  {
   "cell_type": "code",
   "execution_count": 103,
   "id": "482d5d9a-e8e7-40a5-987e-f1942e2980d6",
   "metadata": {},
   "outputs": [
    {
     "data": {
      "text/plain": [
       "0    4827\n",
       "1     747\n",
       "Name: label, dtype: int64"
      ]
     },
     "execution_count": 103,
     "metadata": {},
     "output_type": "execute_result"
    }
   ],
   "source": [
    "# Converting Ham To 0 And Spam To 1 In The Label Column\n",
    "encode = LabelEncoder()\n",
    "messages['label'] = encode.fit_transform(messages['label'])\n",
    "messages['label'].value_counts()"
   ]
  },
  {
   "cell_type": "code",
   "execution_count": 104,
   "id": "b757eb9d-20d6-4c57-ac2f-3b293947e2ef",
   "metadata": {},
   "outputs": [],
   "source": [
    "#Function To Remove Punctuation\n",
    "def remove_punct(text):\n",
    "    text_nopunct = \"\".join([char for char in text if char not in string.punctuation])\n",
    "    return text_nopunct\n",
    "messages['message'] = messages['message'].apply(lambda x: remove_punct(x))"
   ]
  },
  {
   "cell_type": "code",
   "execution_count": 105,
   "id": "55c16f22-84af-4806-a1b7-37b84330f1ad",
   "metadata": {},
   "outputs": [],
   "source": [
    "# Function To Tokenize Words\n",
    "def tokenize(text):\n",
    "    tokens = re.split('\\W+', text)\n",
    "    return tokens\n",
    "messages['message'] = messages['message'].apply(lambda x: tokenize(x.lower()))"
   ]
  },
  {
   "cell_type": "code",
   "execution_count": 106,
   "id": "82f25901-79d1-4ef4-92ee-d63c580a0c99",
   "metadata": {},
   "outputs": [],
   "source": [
    "lab = pd.DataFrame(messages[\"label\"])\n",
    "txt = pd.DataFrame(messages['message'])"
   ]
  },
  {
   "cell_type": "markdown",
   "id": "187b761f-14e4-4a46-b2f7-c2a0864b91ef",
   "metadata": {},
   "source": [
    "## Data Splitting"
   ]
  },
  {
   "cell_type": "code",
   "execution_count": 107,
   "id": "6a9611a0-9dad-48e4-b15b-afa71ba4f261",
   "metadata": {},
   "outputs": [],
   "source": [
    "# Train/Test/Validation Split\n",
    "X_train, X_valtest, y_train, y_valtest = train_test_split(\n",
    "    txt, lab, test_size=0.25)\n",
    "X_test, X_val, y_test, y_val = train_test_split(\n",
    "    X_valtest, y_valtest, test_size=0.5)\n",
    "train_set = pd.concat([y_train, X_train], axis=1)\n",
    "test_set = pd.concat([y_test,X_test],axis=1)\n",
    "validation_set =pd.concat([y_val,X_val],axis=1)"
   ]
  },
  {
   "cell_type": "code",
   "execution_count": 108,
   "id": "3604ac80-3c7d-45d8-9712-eadaa883bfe9",
   "metadata": {},
   "outputs": [],
   "source": [
    "# Storing And Saving The Datasets As 3 Separate CSV Files\n",
    "train_set.to_csv(\"train.csv\")\n",
    "test_set.to_csv(\"test.csv\")\n",
    "validation_set.to_csv(\"validation.csv\")"
   ]
  },
  {
   "cell_type": "code",
   "execution_count": null,
   "id": "9c83dcca-9206-4ebf-b2a3-66920e87e2d8",
   "metadata": {},
   "outputs": [],
   "source": []
  }
 ],
 "metadata": {
  "kernelspec": {
   "display_name": "Python 3 (ipykernel)",
   "language": "python",
   "name": "python3"
  },
  "language_info": {
   "codemirror_mode": {
    "name": "ipython",
    "version": 3
   },
   "file_extension": ".py",
   "mimetype": "text/x-python",
   "name": "python",
   "nbconvert_exporter": "python",
   "pygments_lexer": "ipython3",
   "version": "3.9.15"
  }
 },
 "nbformat": 4,
 "nbformat_minor": 5
}
