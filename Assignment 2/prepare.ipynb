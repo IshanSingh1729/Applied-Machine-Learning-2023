{
 "cells": [
  {
   "cell_type": "markdown",
   "id": "ee1a536e-7984-48cc-ab5e-b72c64154b2f",
   "metadata": {},
   "source": [
    "## Importing Modules"
   ]
  },
  {
   "cell_type": "code",
   "execution_count": 51,
   "id": "91d9ba08-f931-4846-857c-0dc74be4ec49",
   "metadata": {},
   "outputs": [],
   "source": [
    "import re\n",
    "import string\n",
    "import pandas as pd\n",
    "import csv\n",
    "from sklearn.preprocessing import LabelEncoder\n",
    "from sklearn.model_selection import train_test_split"
   ]
  },
  {
   "cell_type": "markdown",
   "id": "1f5de20a-a50a-4015-a8a2-46e2eb661bb9",
   "metadata": {},
   "source": [
    "## Loading The Data"
   ]
  },
  {
   "cell_type": "code",
   "execution_count": 52,
   "id": "283e5187-c1d6-4045-bf5a-520ed2231712",
   "metadata": {},
   "outputs": [
    {
     "data": {
      "text/html": [
       "<div>\n",
       "<style scoped>\n",
       "    .dataframe tbody tr th:only-of-type {\n",
       "        vertical-align: middle;\n",
       "    }\n",
       "\n",
       "    .dataframe tbody tr th {\n",
       "        vertical-align: top;\n",
       "    }\n",
       "\n",
       "    .dataframe thead th {\n",
       "        text-align: right;\n",
       "    }\n",
       "</style>\n",
       "<table border=\"1\" class=\"dataframe\">\n",
       "  <thead>\n",
       "    <tr style=\"text-align: right;\">\n",
       "      <th></th>\n",
       "      <th>Label</th>\n",
       "      <th>Message</th>\n",
       "    </tr>\n",
       "  </thead>\n",
       "  <tbody>\n",
       "    <tr>\n",
       "      <th>0</th>\n",
       "      <td>ham</td>\n",
       "      <td>Go until jurong point, crazy.. Available only ...</td>\n",
       "    </tr>\n",
       "    <tr>\n",
       "      <th>1</th>\n",
       "      <td>ham</td>\n",
       "      <td>Ok lar... Joking wif u oni...</td>\n",
       "    </tr>\n",
       "    <tr>\n",
       "      <th>2</th>\n",
       "      <td>spam</td>\n",
       "      <td>Free entry in 2 a wkly comp to win FA Cup fina...</td>\n",
       "    </tr>\n",
       "    <tr>\n",
       "      <th>3</th>\n",
       "      <td>ham</td>\n",
       "      <td>U dun say so early hor... U c already then say...</td>\n",
       "    </tr>\n",
       "    <tr>\n",
       "      <th>4</th>\n",
       "      <td>ham</td>\n",
       "      <td>Nah I don't think he goes to usf, he lives aro...</td>\n",
       "    </tr>\n",
       "  </tbody>\n",
       "</table>\n",
       "</div>"
      ],
      "text/plain": [
       "  Label                                            Message\n",
       "0   ham  Go until jurong point, crazy.. Available only ...\n",
       "1   ham                      Ok lar... Joking wif u oni...\n",
       "2  spam  Free entry in 2 a wkly comp to win FA Cup fina...\n",
       "3   ham  U dun say so early hor... U c already then say...\n",
       "4   ham  Nah I don't think he goes to usf, he lives aro..."
      ]
     },
     "execution_count": 52,
     "metadata": {},
     "output_type": "execute_result"
    }
   ],
   "source": [
    "raw_data = pd.read_csv('./data/SMSSpamCollection', sep='\\t', quoting=csv.QUOTE_NONE,\n",
    "                           names=[\"Label\", \"Message\"])\n",
    "raw_data.head()"
   ]
  },
  {
   "cell_type": "markdown",
   "id": "d65ec65e-b9cc-4150-af15-802a36c1f01e",
   "metadata": {},
   "source": [
    "## Data Preprocessing"
   ]
  },
  {
   "cell_type": "code",
   "execution_count": 53,
   "id": "482d5d9a-e8e7-40a5-987e-f1942e2980d6",
   "metadata": {},
   "outputs": [
    {
     "data": {
      "text/plain": [
       "0    4827\n",
       "1     747\n",
       "Name: Label, dtype: int64"
      ]
     },
     "execution_count": 53,
     "metadata": {},
     "output_type": "execute_result"
    }
   ],
   "source": [
    "# Converting Ham To 0 And Spam To 1 In The Label Column\n",
    "raw_data.loc[raw_data.Label == 'spam', 'Label'] = 1\n",
    "raw_data.loc[raw_data.Label == 'ham', 'Label'] = 0\n",
    "raw_data['Label'].value_counts()"
   ]
  },
  {
   "cell_type": "code",
   "execution_count": 54,
   "id": "82f25901-79d1-4ef4-92ee-d63c580a0c99",
   "metadata": {},
   "outputs": [],
   "source": [
    "lab = pd.DataFrame(raw_data[\"Label\"])\n",
    "txt = pd.DataFrame(raw_data['Message'])"
   ]
  },
  {
   "cell_type": "code",
   "execution_count": 55,
   "id": "fb30134c-37a5-44d8-86c6-403235eda0dd",
   "metadata": {},
   "outputs": [
    {
     "data": {
      "text/html": [
       "<div>\n",
       "<style scoped>\n",
       "    .dataframe tbody tr th:only-of-type {\n",
       "        vertical-align: middle;\n",
       "    }\n",
       "\n",
       "    .dataframe tbody tr th {\n",
       "        vertical-align: top;\n",
       "    }\n",
       "\n",
       "    .dataframe thead th {\n",
       "        text-align: right;\n",
       "    }\n",
       "</style>\n",
       "<table border=\"1\" class=\"dataframe\">\n",
       "  <thead>\n",
       "    <tr style=\"text-align: right;\">\n",
       "      <th></th>\n",
       "      <th>Label</th>\n",
       "      <th>Message</th>\n",
       "    </tr>\n",
       "  </thead>\n",
       "  <tbody>\n",
       "    <tr>\n",
       "      <th>0</th>\n",
       "      <td>0</td>\n",
       "      <td>Go until jurong point, crazy.. Available only ...</td>\n",
       "    </tr>\n",
       "    <tr>\n",
       "      <th>1</th>\n",
       "      <td>0</td>\n",
       "      <td>Ok lar... Joking wif u oni...</td>\n",
       "    </tr>\n",
       "    <tr>\n",
       "      <th>2</th>\n",
       "      <td>1</td>\n",
       "      <td>Free entry in 2 a wkly comp to win FA Cup fina...</td>\n",
       "    </tr>\n",
       "    <tr>\n",
       "      <th>3</th>\n",
       "      <td>0</td>\n",
       "      <td>U dun say so early hor... U c already then say...</td>\n",
       "    </tr>\n",
       "    <tr>\n",
       "      <th>4</th>\n",
       "      <td>0</td>\n",
       "      <td>Nah I don't think he goes to usf, he lives aro...</td>\n",
       "    </tr>\n",
       "  </tbody>\n",
       "</table>\n",
       "</div>"
      ],
      "text/plain": [
       "  Label                                            Message\n",
       "0     0  Go until jurong point, crazy.. Available only ...\n",
       "1     0                      Ok lar... Joking wif u oni...\n",
       "2     1  Free entry in 2 a wkly comp to win FA Cup fina...\n",
       "3     0  U dun say so early hor... U c already then say...\n",
       "4     0  Nah I don't think he goes to usf, he lives aro..."
      ]
     },
     "execution_count": 55,
     "metadata": {},
     "output_type": "execute_result"
    }
   ],
   "source": [
    "raw_data.head()"
   ]
  },
  {
   "cell_type": "markdown",
   "id": "187b761f-14e4-4a46-b2f7-c2a0864b91ef",
   "metadata": {},
   "source": [
    "## Data Splitting"
   ]
  },
  {
   "cell_type": "code",
   "execution_count": 56,
   "id": "6a9611a0-9dad-48e4-b15b-afa71ba4f261",
   "metadata": {},
   "outputs": [],
   "source": [
    "# Train/Test/Validation Split\n",
    "X_train, X_test, y_train, y_test = train_test_split(txt, raw_data[\"Label\"], test_size=0.15, random_state=108)\n",
    "X_train, X_val, y_train, y_val = train_test_split(X_train, y_train, test_size=0.15, random_state=108)\n",
    "train_set = pd.concat([y_train, X_train], axis=1)\n",
    "test_set = pd.concat([y_test,X_test],axis=1)\n",
    "validation_set =pd.concat([y_val,X_val],axis=1)"
   ]
  },
  {
   "cell_type": "code",
   "execution_count": 57,
   "id": "44b3f9a2-a209-4a9c-88cc-da6a6058d66b",
   "metadata": {},
   "outputs": [],
   "source": [
    "train_set = train_set.reset_index(drop=True)\n",
    "test_set = test_set.reset_index(drop=True)\n",
    "validation_set = validation_set.reset_index(drop=True)"
   ]
  },
  {
   "cell_type": "code",
   "execution_count": 58,
   "id": "109ff88b-3210-46fd-bd6b-986737f05269",
   "metadata": {},
   "outputs": [
    {
     "name": "stdout",
     "output_type": "stream",
     "text": [
      "The number of 0s in the train set is: 3501. The number of 1s in the train set is: 525.\n",
      "The number of 0s in the validation set is: 625. The number of 1s in the validation set is: 86.\n",
      "The number of 0s in the test set is: 701. The number of 1s in the test set is: 136.\n"
     ]
    }
   ],
   "source": [
    "## Checking Data Profile With Seed 108\n",
    "print(f\"The number of 0s in the train set is: {sum(y_train == 0)}. The number of 1s in the train set is: {sum(y_train == 1)}.\")\n",
    "print(f\"The number of 0s in the validation set is: {sum(y_val == 0)}. The number of 1s in the validation set is: {sum(y_val == 1)}.\")\n",
    "print(f\"The number of 0s in the test set is: {sum(y_test == 0)}. The number of 1s in the test set is: {sum(y_test == 1)}.\")"
   ]
  },
  {
   "cell_type": "code",
   "execution_count": 59,
   "id": "3604ac80-3c7d-45d8-9712-eadaa883bfe9",
   "metadata": {},
   "outputs": [],
   "source": [
    "# Storing And Saving The Datasets As 3 Separate CSV Files\n",
    "train_set.to_csv(\"Data/train.csv\")\n",
    "test_set.to_csv(\"Data/test.csv\")\n",
    "validation_set.to_csv(\"Data/validation.csv\")"
   ]
  },
  {
   "cell_type": "markdown",
   "id": "ce3da169-f9f2-46d7-9d07-5524c4ea94ed",
   "metadata": {
    "id": "2_7d4WQX_Q7C",
    "tags": []
   },
   "source": [
    "## Working with Git and DVC to track data"
   ]
  },
  {
   "cell_type": "code",
   "execution_count": 60,
   "id": "22562450-8650-440a-ae7f-d3288713ab6a",
   "metadata": {
    "colab": {
     "base_uri": "https://localhost:8080/"
    },
    "id": "OE38_4J_5tkH",
    "outputId": "36caada0-e5c5-4917-b591-8d2e5731f22c",
    "tags": []
   },
   "outputs": [],
   "source": [
    "# import sys\n",
    "# !{sys.executable} -m pip install dvc"
   ]
  },
  {
   "cell_type": "code",
   "execution_count": 61,
   "id": "c22bea69-cee0-49f8-8b4a-cfbba21f8130",
   "metadata": {},
   "outputs": [],
   "source": [
    "# ! git init\n",
    "# ! dvc init"
   ]
  },
  {
   "cell_type": "code",
   "execution_count": 62,
   "id": "9e7b7031-3448-42f3-a341-87c860372480",
   "metadata": {
    "colab": {
     "base_uri": "https://localhost:8080/"
    },
    "id": "02m0Urz35_1T",
    "outputId": "608ba672-b5b2-4f51-a967-561d62c8e80f",
    "tags": []
   },
   "outputs": [],
   "source": [
    "# ! dvc add Data\n",
    "# ! git add Data.dvc\n",
    "# ! git commit -m \"Tracking Data\""
   ]
  },
  {
   "cell_type": "code",
   "execution_count": 63,
   "id": "e10931a7-aacb-43a7-af7c-656182b8342a",
   "metadata": {
    "tags": []
   },
   "outputs": [],
   "source": [
    "# ! dvc add remote -d storage gdrive://1EmEwAn76sQuzONuBhR2rfib3a4olsrPX\n",
    "# ! dvc push"
   ]
  },
  {
   "cell_type": "markdown",
   "id": "d1754143-af6e-42dc-be64-1caa21322234",
   "metadata": {
    "id": "r0DZQSJY5fUA"
   },
   "source": [
    "### Data Splitting Again"
   ]
  },
  {
   "cell_type": "code",
   "execution_count": 64,
   "id": "93d32cfb-7edc-4d70-b70d-5634631be27f",
   "metadata": {
    "id": "C4tGEyga5LRH"
   },
   "outputs": [],
   "source": [
    "X_train, X_test, y_train, y_test = train_test_split(txt, raw_data[\"Label\"], test_size=0.15, random_state=27)\n",
    "X_train, X_val, y_train, y_val = train_test_split(X_train, y_train, test_size=0.15, random_state=27)\n",
    "train_set = pd.concat([y_train, X_train], axis=1)\n",
    "test_set = pd.concat([y_test,X_test],axis=1)\n",
    "validation_set =pd.concat([y_val,X_val],axis=1)"
   ]
  },
  {
   "cell_type": "code",
   "execution_count": 65,
   "id": "82431902-be05-4390-af92-14e3e5916962",
   "metadata": {},
   "outputs": [],
   "source": [
    "train_set = train_set.reset_index(drop=True)\n",
    "test_set = test_set.reset_index(drop=True)\n",
    "validation_set = validation_set.reset_index(drop=True)"
   ]
  },
  {
   "cell_type": "code",
   "execution_count": 66,
   "id": "69c059d8-cdb3-41d0-9a9b-1c9614737b2f",
   "metadata": {},
   "outputs": [
    {
     "name": "stdout",
     "output_type": "stream",
     "text": [
      "The number of 0s in the train set is: 3497. The number of 1s in the train set is: 529.\n",
      "The number of 0s in the validation set is: 612. The number of 1s in the validation set is: 99.\n",
      "The number of 0s in the test set is: 718. The number of 1s in the test set is: 119.\n"
     ]
    }
   ],
   "source": [
    "## Checking Data Profile With Seed 27\n",
    "print(f\"The number of 0s in the train set is: {sum(y_train == 0)}. The number of 1s in the train set is: {sum(y_train == 1)}.\")\n",
    "print(f\"The number of 0s in the validation set is: {sum(y_val == 0)}. The number of 1s in the validation set is: {sum(y_val == 1)}.\")\n",
    "print(f\"The number of 0s in the test set is: {sum(y_test == 0)}. The number of 1s in the test set is: {sum(y_test == 1)}.\")"
   ]
  },
  {
   "cell_type": "code",
   "execution_count": 67,
   "id": "81d37ff0-d060-4aac-ae64-84b2b3dcac04",
   "metadata": {},
   "outputs": [],
   "source": [
    "# Storing And Saving The Datasets As 3 Separate CSV Files\n",
    "train_set.to_csv(\"Data/train.csv\", index=False)\n",
    "test_set.to_csv(\"Data/test.csv\", index=False)\n",
    "validation_set.to_csv(\"Data/validation.csv\", index=False)"
   ]
  },
  {
   "cell_type": "code",
   "execution_count": 68,
   "id": "5e992366-13aa-4e18-b0c4-656ca5dc62ad",
   "metadata": {},
   "outputs": [],
   "source": [
    "# ! dvc add Data\n",
    "# ! git add Data.dvc\n",
    "# ! git commit -m \"Seed Changes\"\n",
    "# ! dvc push"
   ]
  },
  {
   "cell_type": "code",
   "execution_count": 69,
   "id": "2a7b8935-d7a4-4a0d-9db0-46cf6814de9d",
   "metadata": {},
   "outputs": [],
   "source": [
    "# ! git log --oneline"
   ]
  },
  {
   "cell_type": "markdown",
   "id": "48890005-d0b8-4891-b748-ee5f915b3925",
   "metadata": {},
   "source": [
    "### Getting First Version"
   ]
  },
  {
   "cell_type": "code",
   "execution_count": 70,
   "id": "49ab3be4-5b03-4a9c-b011-5d4297f287d9",
   "metadata": {},
   "outputs": [],
   "source": [
    "# ! git checkout HEAD^1 Data.dvc\n",
    "# ! dvc checkout"
   ]
  },
  {
   "cell_type": "code",
   "execution_count": 71,
   "id": "6124a715-3f6e-48b3-adea-cf81797b7896",
   "metadata": {},
   "outputs": [],
   "source": [
    "train = pd.read_csv(\"Data/train.csv\")\n",
    "val = pd.read_csv(\"Data/validation.csv\")\n",
    "test = pd.read_csv(\"Data/test.csv\")"
   ]
  },
  {
   "cell_type": "code",
   "execution_count": 72,
   "id": "d0931c2e-3088-431f-8b54-f33a9fc5e466",
   "metadata": {
    "colab": {
     "base_uri": "https://localhost:8080/"
    },
    "id": "3HEO9zxf75Qm",
    "outputId": "c0031ee9-6e89-4ab3-cf6e-396aeaf54b13"
   },
   "outputs": [
    {
     "name": "stdout",
     "output_type": "stream",
     "text": [
      "The number of 0s in the train set is: 3497. The number of 1s in the train set is: 529.\n",
      "The number of 0s in the validation set is: 612. The number of 1s in the validation set is: 99.\n",
      "The number of 0s in the test set is: 718. The number of 1s in the test set is: 119.\n"
     ]
    }
   ],
   "source": [
    "## Checking Data Profile Before Update\n",
    "print(f\"The number of 0s in the train set is: {sum(y_train == 0)}. The number of 1s in the train set is: {sum(y_train == 1)}.\")\n",
    "print(f\"The number of 0s in the validation set is: {sum(y_val == 0)}. The number of 1s in the validation set is: {sum(y_val == 1)}.\")\n",
    "print(f\"The number of 0s in the test set is: {sum(y_test == 0)}. The number of 1s in the test set is: {sum(y_test == 1)}.\")"
   ]
  },
  {
   "cell_type": "code",
   "execution_count": 73,
   "id": "c4ef7d01-a4ab-4339-aa9b-172c8ad8a5d2",
   "metadata": {},
   "outputs": [],
   "source": [
    "# ! git checkout HEAD Data.dvc      \n",
    "# ! dvc checkout                                                      "
   ]
  },
  {
   "cell_type": "markdown",
   "id": "1c3f7a62-6723-49a6-a922-4760f12fb88a",
   "metadata": {},
   "source": [
    "### Getting Second Version"
   ]
  },
  {
   "cell_type": "code",
   "execution_count": 74,
   "id": "deb5202e-c120-4f1c-8beb-aa858d9733f9",
   "metadata": {
    "id": "H83lRi00LQ8c"
   },
   "outputs": [],
   "source": [
    "train = pd.read_csv(\"Data/train.csv\")\n",
    "val = pd.read_csv(\"Data/validation.csv\")\n",
    "test = pd.read_csv(\"Data/test.csv\")"
   ]
  },
  {
   "cell_type": "code",
   "execution_count": 75,
   "id": "07a27a44-866a-410d-aa73-7b42495cf18b",
   "metadata": {},
   "outputs": [
    {
     "name": "stdout",
     "output_type": "stream",
     "text": [
      "The number of 0s in the train set is: 3497. The number of 1s in the train set is: 529.\n",
      "The number of 0s in the validation set is: 612. The number of 1s in the validation set is: 99.\n",
      "The number of 0s in the test set is: 718. The number of 1s in the test set is: 119.\n"
     ]
    }
   ],
   "source": [
    "## Checking Data Profile Before Update\n",
    "print(f\"The number of 0s in the train set is: {sum(y_train == 0)}. The number of 1s in the train set is: {sum(y_train == 1)}.\")\n",
    "print(f\"The number of 0s in the validation set is: {sum(y_val == 0)}. The number of 1s in the validation set is: {sum(y_val == 1)}.\")\n",
    "print(f\"The number of 0s in the test set is: {sum(y_test == 0)}. The number of 1s in the test set is: {sum(y_test == 1)}.\")"
   ]
  },
  {
   "cell_type": "code",
   "execution_count": null,
   "id": "cf765f72-6c8b-4aa7-8b46-5646e4c7eb20",
   "metadata": {},
   "outputs": [],
   "source": []
  },
  {
   "cell_type": "code",
   "execution_count": null,
   "id": "82c3ae92-e4bf-4a6b-91b5-8f83768277cb",
   "metadata": {},
   "outputs": [],
   "source": []
  }
 ],
 "metadata": {
  "kernelspec": {
   "display_name": "Python 3 (ipykernel)",
   "language": "python",
   "name": "python3"
  },
  "language_info": {
   "codemirror_mode": {
    "name": "ipython",
    "version": 3
   },
   "file_extension": ".py",
   "mimetype": "text/x-python",
   "name": "python",
   "nbconvert_exporter": "python",
   "pygments_lexer": "ipython3",
   "version": "3.9.15"
  }
 },
 "nbformat": 4,
 "nbformat_minor": 5
}
