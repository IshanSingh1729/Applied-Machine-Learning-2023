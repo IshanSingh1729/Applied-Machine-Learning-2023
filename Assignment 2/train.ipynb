{
 "cells": [
  {
   "cell_type": "markdown",
   "metadata": {
    "id": "BnM_abBAwarO"
   },
   "source": [
    "## Importing Libraries"
   ]
  },
  {
   "cell_type": "code",
   "execution_count": 53,
   "metadata": {
    "id": "l4b3EZxi6W2l"
   },
   "outputs": [],
   "source": [
    "%matplotlib inline\n",
    "import pandas as pd\n",
    "import numpy as np\n",
    "import mlflow\n",
    "import logging\n",
    "from urllib.parse import urlparse\n",
    "from markupsafe import escape\n",
    "import matplotlib.pyplot as plt\n",
    "from sklearn.feature_extraction.text import TfidfTransformer,CountVectorizer\n",
    "from sklearn.naive_bayes import MultinomialNB\n",
    "from sklearn.neural_network import MLPClassifier\n",
    "from sklearn.metrics import classification_report, confusion_matrix,accuracy_score,precision_recall_curve,auc\n",
    "from sklearn.ensemble import RandomForestClassifier\n",
    "logging.basicConfig(level=logging.WARN)\n",
    "logger = logging.getLogger(__name__)"
   ]
  },
  {
   "cell_type": "markdown",
   "metadata": {
    "id": "iU4OeFANwmws"
   },
   "source": [
    "## Loading The Train, Validation and Test Data"
   ]
  },
  {
   "cell_type": "code",
   "execution_count": 54,
   "metadata": {
    "id": "D2YgvPlXqCij"
   },
   "outputs": [],
   "source": [
    "train = pd.read_csv(\"Data/train.csv\")\n",
    "val = pd.read_csv(\"Data/validation.csv\")\n",
    "test = pd.read_csv(\"Data/test.csv\")"
   ]
  },
  {
   "cell_type": "code",
   "execution_count": 55,
   "metadata": {
    "colab": {
     "base_uri": "https://localhost:8080/",
     "height": 206
    },
    "id": "vruRCffoqTI5",
    "outputId": "de6417d0-a66d-4fb1-c70b-4672572e28c6"
   },
   "outputs": [
    {
     "data": {
      "text/html": [
       "<div>\n",
       "<style scoped>\n",
       "    .dataframe tbody tr th:only-of-type {\n",
       "        vertical-align: middle;\n",
       "    }\n",
       "\n",
       "    .dataframe tbody tr th {\n",
       "        vertical-align: top;\n",
       "    }\n",
       "\n",
       "    .dataframe thead th {\n",
       "        text-align: right;\n",
       "    }\n",
       "</style>\n",
       "<table border=\"1\" class=\"dataframe\">\n",
       "  <thead>\n",
       "    <tr style=\"text-align: right;\">\n",
       "      <th></th>\n",
       "      <th>Label</th>\n",
       "      <th>Message</th>\n",
       "    </tr>\n",
       "  </thead>\n",
       "  <tbody>\n",
       "    <tr>\n",
       "      <th>0</th>\n",
       "      <td>0</td>\n",
       "      <td>Ok... But bag again..</td>\n",
       "    </tr>\n",
       "    <tr>\n",
       "      <th>1</th>\n",
       "      <td>0</td>\n",
       "      <td>Err... Cud do. I'm going to  at 8pm. I haven't...</td>\n",
       "    </tr>\n",
       "    <tr>\n",
       "      <th>2</th>\n",
       "      <td>0</td>\n",
       "      <td>Well done and ! luv ya all</td>\n",
       "    </tr>\n",
       "    <tr>\n",
       "      <th>3</th>\n",
       "      <td>0</td>\n",
       "      <td>Had the money issue weigh me down but thanks t...</td>\n",
       "    </tr>\n",
       "    <tr>\n",
       "      <th>4</th>\n",
       "      <td>0</td>\n",
       "      <td>I am going to film 2day da. At 6pm. Sorry da.</td>\n",
       "    </tr>\n",
       "  </tbody>\n",
       "</table>\n",
       "</div>"
      ],
      "text/plain": [
       "   Label                                            Message\n",
       "0      0                              Ok... But bag again..\n",
       "1      0  Err... Cud do. I'm going to  at 8pm. I haven't...\n",
       "2      0                        Well done and ! luv ya all \n",
       "3      0  Had the money issue weigh me down but thanks t...\n",
       "4      0      I am going to film 2day da. At 6pm. Sorry da."
      ]
     },
     "execution_count": 55,
     "metadata": {},
     "output_type": "execute_result"
    }
   ],
   "source": [
    "train.head()"
   ]
  },
  {
   "cell_type": "code",
   "execution_count": 56,
   "metadata": {
    "colab": {
     "base_uri": "https://localhost:8080/",
     "height": 206
    },
    "id": "NPIZekE0qVUS",
    "outputId": "78a83e85-d914-44c9-a765-d7d9518602e0"
   },
   "outputs": [
    {
     "data": {
      "text/html": [
       "<div>\n",
       "<style scoped>\n",
       "    .dataframe tbody tr th:only-of-type {\n",
       "        vertical-align: middle;\n",
       "    }\n",
       "\n",
       "    .dataframe tbody tr th {\n",
       "        vertical-align: top;\n",
       "    }\n",
       "\n",
       "    .dataframe thead th {\n",
       "        text-align: right;\n",
       "    }\n",
       "</style>\n",
       "<table border=\"1\" class=\"dataframe\">\n",
       "  <thead>\n",
       "    <tr style=\"text-align: right;\">\n",
       "      <th></th>\n",
       "      <th>Label</th>\n",
       "      <th>Message</th>\n",
       "    </tr>\n",
       "  </thead>\n",
       "  <tbody>\n",
       "    <tr>\n",
       "      <th>0</th>\n",
       "      <td>0</td>\n",
       "      <td>Pls send me a comprehensive mail about who i'm...</td>\n",
       "    </tr>\n",
       "    <tr>\n",
       "      <th>1</th>\n",
       "      <td>0</td>\n",
       "      <td>U in town alone?</td>\n",
       "    </tr>\n",
       "    <tr>\n",
       "      <th>2</th>\n",
       "      <td>0</td>\n",
       "      <td>How are you doing? Hope you've settled in for ...</td>\n",
       "    </tr>\n",
       "    <tr>\n",
       "      <th>3</th>\n",
       "      <td>0</td>\n",
       "      <td>Lara said she can loan me  &amp;lt;#&amp;gt; .</td>\n",
       "    </tr>\n",
       "    <tr>\n",
       "      <th>4</th>\n",
       "      <td>0</td>\n",
       "      <td>Sorry, I'll call later</td>\n",
       "    </tr>\n",
       "  </tbody>\n",
       "</table>\n",
       "</div>"
      ],
      "text/plain": [
       "   Label                                            Message\n",
       "0      0  Pls send me a comprehensive mail about who i'm...\n",
       "1      0                                   U in town alone?\n",
       "2      0  How are you doing? Hope you've settled in for ...\n",
       "3      0             Lara said she can loan me  &lt;#&gt; .\n",
       "4      0                             Sorry, I'll call later"
      ]
     },
     "execution_count": 56,
     "metadata": {},
     "output_type": "execute_result"
    }
   ],
   "source": [
    "val.head()"
   ]
  },
  {
   "cell_type": "code",
   "execution_count": 57,
   "metadata": {
    "colab": {
     "base_uri": "https://localhost:8080/",
     "height": 206
    },
    "id": "70O7Zmn9qWko",
    "outputId": "572134be-3da9-4bbf-879d-788daca83130"
   },
   "outputs": [
    {
     "data": {
      "text/html": [
       "<div>\n",
       "<style scoped>\n",
       "    .dataframe tbody tr th:only-of-type {\n",
       "        vertical-align: middle;\n",
       "    }\n",
       "\n",
       "    .dataframe tbody tr th {\n",
       "        vertical-align: top;\n",
       "    }\n",
       "\n",
       "    .dataframe thead th {\n",
       "        text-align: right;\n",
       "    }\n",
       "</style>\n",
       "<table border=\"1\" class=\"dataframe\">\n",
       "  <thead>\n",
       "    <tr style=\"text-align: right;\">\n",
       "      <th></th>\n",
       "      <th>Label</th>\n",
       "      <th>Message</th>\n",
       "    </tr>\n",
       "  </thead>\n",
       "  <tbody>\n",
       "    <tr>\n",
       "      <th>0</th>\n",
       "      <td>0</td>\n",
       "      <td>Yo, any way we could pick something up tonight?</td>\n",
       "    </tr>\n",
       "    <tr>\n",
       "      <th>1</th>\n",
       "      <td>0</td>\n",
       "      <td>Yes:)sura in sun tv.:)lol.</td>\n",
       "    </tr>\n",
       "    <tr>\n",
       "      <th>2</th>\n",
       "      <td>0</td>\n",
       "      <td>Welp apparently he retired</td>\n",
       "    </tr>\n",
       "    <tr>\n",
       "      <th>3</th>\n",
       "      <td>0</td>\n",
       "      <td>I've told him that i've returned it. That shou...</td>\n",
       "    </tr>\n",
       "    <tr>\n",
       "      <th>4</th>\n",
       "      <td>0</td>\n",
       "      <td>Having lunch:)you are not in online?why?</td>\n",
       "    </tr>\n",
       "  </tbody>\n",
       "</table>\n",
       "</div>"
      ],
      "text/plain": [
       "   Label                                            Message\n",
       "0      0    Yo, any way we could pick something up tonight?\n",
       "1      0                         Yes:)sura in sun tv.:)lol.\n",
       "2      0                         Welp apparently he retired\n",
       "3      0  I've told him that i've returned it. That shou...\n",
       "4      0           Having lunch:)you are not in online?why?"
      ]
     },
     "execution_count": 57,
     "metadata": {},
     "output_type": "execute_result"
    }
   ],
   "source": [
    "test.head()"
   ]
  },
  {
   "cell_type": "code",
   "execution_count": 58,
   "metadata": {
    "id": "T3GwBPTCq9Mh"
   },
   "outputs": [],
   "source": [
    "y_train, X_train = train[\"Label\"], train[\"Message\"]\n",
    "y_val, X_val = val[\"Label\"], val[\"Message\"]\n",
    "y_test, X_test = test[\"Label\"], test[\"Message\"]"
   ]
  },
  {
   "cell_type": "markdown",
   "metadata": {
    "id": "4ioyO-p5w0_V"
   },
   "source": [
    "## Changing String To Vectors For Inputting To Model"
   ]
  },
  {
   "cell_type": "code",
   "execution_count": 59,
   "metadata": {
    "id": "Po9sk9V9uyhD"
   },
   "outputs": [],
   "source": [
    "# Replacing NAN entries with an empty string\n",
    "X_train = X_train.replace(np.nan, '', regex=True)\n",
    "X_val = X_val.replace(np.nan, '', regex=True)\n",
    "X_test = X_test.replace(np.nan, '', regex=True)"
   ]
  },
  {
   "cell_type": "code",
   "execution_count": 60,
   "metadata": {
    "id": "hNZBH3seMgMa"
   },
   "outputs": [],
   "source": [
    "count = CountVectorizer().fit(X_train)\n",
    "X_train = count.transform(X_train)\n",
    "X_val = count.transform(X_val)\n",
    "X_test = count.transform(X_test)"
   ]
  },
  {
   "cell_type": "code",
   "execution_count": 61,
   "metadata": {
    "id": "cN-u6hq66Iro"
   },
   "outputs": [],
   "source": [
    "tfidf_transformer = TfidfTransformer()\n",
    "tfidf_train = tfidf_transformer.fit_transform(X_train)\n",
    "tfidf_val = tfidf_transformer.fit_transform(X_val)\n",
    "tfidf_test = tfidf_transformer.fit_transform(X_test)"
   ]
  },
  {
   "cell_type": "code",
   "execution_count": 62,
   "metadata": {
    "colab": {
     "base_uri": "https://localhost:8080/"
    },
    "id": "wemn-yWV6KUp",
    "outputId": "c479f757-06cb-4320-ee90-fac5294eba0c"
   },
   "outputs": [
    {
     "data": {
      "text/plain": [
       "((4026, 7273), (711, 7273), (837, 7273))"
      ]
     },
     "execution_count": 62,
     "metadata": {},
     "output_type": "execute_result"
    }
   ],
   "source": [
    "tfidf_train.shape, tfidf_val.shape, tfidf_test.shape"
   ]
  },
  {
   "cell_type": "markdown",
   "metadata": {
    "id": "4vX-z4Xkw7QU"
   },
   "source": [
    "## Training Models"
   ]
  },
  {
   "cell_type": "code",
   "execution_count": 63,
   "metadata": {
    "id": "6XvUnZX-AyV0"
   },
   "outputs": [],
   "source": [
    "def eval_metrics(actual, pred):\n",
    "    precision, recall, thresholds = precision_recall_curve(actual, pred)\n",
    "    auc_precision_recall = auc(recall, precision)\n",
    "    return (auc_precision_recall)"
   ]
  },
  {
   "cell_type": "markdown",
   "metadata": {},
   "source": [
    "### Model 1: Random Forest Classifier"
   ]
  },
  {
   "cell_type": "code",
   "execution_count": 64,
   "metadata": {
    "colab": {
     "base_uri": "https://localhost:8080/"
    },
    "id": "vdn8dwBlC7QF",
    "outputId": "54afa4df-455d-42dc-eda7-c491820a0cc9"
   },
   "outputs": [
    {
     "name": "stderr",
     "output_type": "stream",
     "text": [
      "2023/02/25 19:32:06 INFO mlflow.utils.autologging_utils: Created MLflow autologging run with ID '67fd179cdb6a46dea154b990265b462c', which will track hyperparameters, performance metrics, model artifacts, and lineage information for the current sklearn workflow\n"
     ]
    },
    {
     "name": "stdout",
     "output_type": "stream",
     "text": [
      "\n",
      "Random Classifier Model (no_of_estimator=200.000000, max_depth=5.000000):\n",
      "Accuracy: 0.8578255675029869\n",
      "AUCPR: 0.5710872162485066 \n",
      "Confusion Matrix: [[718   0]\n",
      " [119   0]] \n",
      " \n",
      "\n"
     ]
    },
    {
     "name": "stderr",
     "output_type": "stream",
     "text": [
      "Registered model 'random-forest-classification-model' already exists. Creating a new version of this model...\n",
      "2023/02/25 19:32:15 INFO mlflow.tracking._model_registry.client: Waiting up to 300 seconds for model version to finish creation.                     Model name: random-forest-classification-model, version 1\n",
      "Created version '1' of model 'random-forest-classification-model'.\n"
     ]
    }
   ],
   "source": [
    "mlflow.sklearn.autolog()\n",
    "\n",
    "n_estimators = 200\n",
    "max_depth = 5\n",
    "clf = RandomForestClassifier(n_estimators = n_estimators, max_depth = max_depth,random_state=101)\n",
    "clf.fit(tfidf_train, y_train)\n",
    "\n",
    "y_pred = clf.predict(tfidf_test)\n",
    "aucpr = eval_metrics(y_test, y_pred)\n",
    "acc = accuracy_score(y_test, y_pred)\n",
    "conf_1=confusion_matrix(y_test, y_pred)\n",
    "\n",
    "with mlflow.start_run(run_name=f\"n_estimators : {n_estimators}, max_depth : {max_depth}\"):\n",
    "  \n",
    "    mlflow.log_param(\"n_estimators\", n_estimators)\n",
    "    mlflow.log_param(\"max_depth\", max_depth)\n",
    "    mlflow.log_metric(\"accuracy\", acc)\n",
    "    mlflow.log_metric(\"AUCPR\",aucpr)\n",
    "    mlflow.log_dict(np.array(conf_1).tolist(), \"confusion_matrix.json\")\n",
    "    mlflow.sklearn.log_model(clf, \"model\")\n",
    "\n",
    "    print(\"\\nRandom Classifier Model (no_of_estimator={:f}, max_depth={:f}):\".format(n_estimators, max_depth))\n",
    "    print(f\"Accuracy: {acc}\")\n",
    "    print(f\"AUCPR: {aucpr} \")\n",
    "    print(f\"Confusion Matrix: {conf_1} \\n \\n\")\n",
    "    \n",
    "\n",
    "    tracking_url_type_store = urlparse(mlflow.get_tracking_uri()).scheme\n",
    "    mlflow.sklearn.log_model(\n",
    "        sk_model=clf,\n",
    "        artifact_path=\"sklearn-model\",\n",
    "        registered_model_name=\"random-forest-classification-model\"\n",
    "    )\n",
    "    if tracking_url_type_store != \"file\":\n",
    "        mlflow.sklearn.log_model(clf, \"model\", registered_model_name=\"Randomclassifier\")\n",
    "    else:\n",
    "        mlflow.sklearn.log_model(clf, \"model\")"
   ]
  },
  {
   "cell_type": "code",
   "execution_count": 65,
   "metadata": {
    "colab": {
     "base_uri": "https://localhost:8080/"
    },
    "id": "zlOs5HShCHMs",
    "outputId": "7ee17f46-c2ac-4994-e487-b7b5ee38c6ad"
   },
   "outputs": [
    {
     "data": {
      "text/plain": [
       "<ModelVersion: creation_timestamp=1677333735497, current_stage='None', description=None, last_updated_timestamp=1677333735497, name='random-forest-classification-model', run_id='4e078d03d11e48158cb379e4c190b2fd', run_link=None, source='file:///C:/Jupyter%20Lab/CMI/Applied%20Machine%20Learning/Assignment%202/mlruns/0/4e078d03d11e48158cb379e4c190b2fd/artifacts/sklearn-model', status='READY', status_message=None, tags={}, user_id=None, version=1>"
      ]
     },
     "execution_count": 65,
     "metadata": {},
     "output_type": "execute_result"
    }
   ],
   "source": [
    "mlflow.tracking.MlflowClient().get_model_version(\"random-forest-classification-model\",\"1\")"
   ]
  },
  {
   "cell_type": "markdown",
   "metadata": {
    "id": "CuuIcCqS-XT1"
   },
   "source": [
    "### Model 2: Multinomial Naive Bayes"
   ]
  },
  {
   "cell_type": "code",
   "execution_count": 66,
   "metadata": {
    "colab": {
     "base_uri": "https://localhost:8080/"
    },
    "id": "1DNCjPmc8HFb",
    "outputId": "e587bd3d-ceff-4972-aa33-d67ef51467f1"
   },
   "outputs": [
    {
     "name": "stderr",
     "output_type": "stream",
     "text": [
      "2023/02/25 19:32:18 INFO mlflow.utils.autologging_utils: Created MLflow autologging run with ID 'dac6745e2c3744dea81453693447ad37', which will track hyperparameters, performance metrics, model artifacts, and lineage information for the current sklearn workflow\n"
     ]
    },
    {
     "name": "stdout",
     "output_type": "stream",
     "text": [
      "\n",
      "Multinomial Naive Bayes\n",
      "Accuracy: 0.9414575866188769\n",
      "AUCPR: 0.8233888537493851\n",
      "Confusion Matrix: [[718   0]\n",
      " [ 49  70]] \n",
      "\n",
      "\n"
     ]
    },
    {
     "name": "stderr",
     "output_type": "stream",
     "text": [
      "Registered model 'multinomial-nb-model' already exists. Creating a new version of this model...\n",
      "2023/02/25 19:32:26 INFO mlflow.tracking._model_registry.client: Waiting up to 300 seconds for model version to finish creation.                     Model name: multinomial-nb-model, version 1\n",
      "Created version '1' of model 'multinomial-nb-model'.\n"
     ]
    }
   ],
   "source": [
    "mlflow.sklearn.autolog()\n",
    "\n",
    "clf = MultinomialNB()\n",
    "clf.fit(tfidf_train, y_train)\n",
    "\n",
    "y_pred = clf.predict(tfidf_test)\n",
    "aucpr = eval_metrics(y_test, y_pred)\n",
    "acc = accuracy_score(y_test, y_pred)\n",
    "conf_2=confusion_matrix(y_test, y_pred)\n",
    "\n",
    "with mlflow.start_run(run_name=\"Multinomial Naive Bayes\"):\n",
    "\n",
    "    mlflow.log_metric(\"accuracy\", acc)\n",
    "    mlflow.log_metric(\"AUCPR\",aucpr)\n",
    "    mlflow.sklearn.log_model(clf, \"model\")\n",
    "    mlflow.log_dict(np.array(conf_2).tolist(), \"confusion_matrix.json\")\n",
    "\n",
    "    print(\"\\nMultinomial Naive Bayes\")\n",
    "    print(f\"Accuracy: {acc}\")\n",
    "    print(f\"AUCPR: {aucpr}\")\n",
    "    print(f\"Confusion Matrix: {conf_2} \\n\\n\")\n",
    "    \n",
    "\n",
    "    tracking_url_type_store = urlparse(mlflow.get_tracking_uri()).scheme\n",
    "    mlflow.sklearn.log_model(\n",
    "        sk_model=clf,\n",
    "        artifact_path=\"sklearn-model\",\n",
    "        registered_model_name=\"multinomial-nb-model\"\n",
    "    )\n",
    "    if tracking_url_type_store != \"file\":\n",
    "        mlflow.sklearn.log_model(clf, \"model\", registered_model_name=\"multinomial-nb-model\")\n",
    "    else:\n",
    "        mlflow.sklearn.log_model(clf, \"model\")"
   ]
  },
  {
   "cell_type": "code",
   "execution_count": 67,
   "metadata": {
    "colab": {
     "base_uri": "https://localhost:8080/"
    },
    "id": "P4P1NIkrIA40",
    "outputId": "0ede5b99-1390-44fb-8058-4f39e792d525"
   },
   "outputs": [
    {
     "name": "stdout",
     "output_type": "stream",
     "text": [
      "<ModelVersion: creation_timestamp=1677333746391, current_stage='None', description=None, last_updated_timestamp=1677333746391, name='multinomial-nb-model', run_id='be01ed93545942189af1d20e9e3a3c83', run_link=None, source='file:///C:/Jupyter%20Lab/CMI/Applied%20Machine%20Learning/Assignment%202/mlruns/0/be01ed93545942189af1d20e9e3a3c83/artifacts/sklearn-model', status='READY', status_message=None, tags={}, user_id=None, version=1>\n"
     ]
    }
   ],
   "source": [
    "print(mlflow.tracking.MlflowClient().get_model_version(\"multinomial-nb-model\", '1'))"
   ]
  },
  {
   "cell_type": "markdown",
   "metadata": {
    "id": "0PlnnwdtIj7d"
   },
   "source": [
    "### Model 3: MLP Classifier"
   ]
  },
  {
   "cell_type": "code",
   "execution_count": 68,
   "metadata": {
    "colab": {
     "base_uri": "https://localhost:8080/"
    },
    "id": "si9FH6G8IL5k",
    "outputId": "053987ab-6e3e-421a-a3b9-6eaa47091a23"
   },
   "outputs": [
    {
     "name": "stderr",
     "output_type": "stream",
     "text": [
      "2023/02/25 19:32:29 INFO mlflow.utils.autologging_utils: Created MLflow autologging run with ID '1aaa95b52acb4ddd916172d022b1a410', which will track hyperparameters, performance metrics, model artifacts, and lineage information for the current sklearn workflow\n"
     ]
    },
    {
     "name": "stdout",
     "output_type": "stream",
     "text": [
      "\n",
      "Multilayer Perceptron\n",
      "Accuracy: 0.982078853046595\n",
      "AUCPR: 0.9448226913677488\n",
      "Confusion Matrix [[717   1]\n",
      " [ 14 105]] \n",
      "\n",
      "\n"
     ]
    },
    {
     "name": "stderr",
     "output_type": "stream",
     "text": [
      "Registered model 'multilayer-perceptron-model' already exists. Creating a new version of this model...\n",
      "2023/02/25 19:33:08 INFO mlflow.tracking._model_registry.client: Waiting up to 300 seconds for model version to finish creation.                     Model name: multilayer-perceptron-model, version 1\n",
      "Created version '1' of model 'multilayer-perceptron-model'.\n"
     ]
    }
   ],
   "source": [
    "mlflow.sklearn.autolog()\n",
    "\n",
    "clf = MLPClassifier(random_state=101,learning_rate='adaptive')\n",
    "clf.fit(tfidf_train, y_train)\n",
    "\n",
    "y_pred = clf.predict(tfidf_test)\n",
    "aucpr = eval_metrics(y_test, y_pred)\n",
    "acc = accuracy_score(y_test, y_pred)\n",
    "conf_3=confusion_matrix(y_test, y_pred)\n",
    "\n",
    "with mlflow.start_run(run_name=\"Multilayer Perceptron\"):\n",
    "\n",
    "    mlflow.log_metric(\"accuracy\", acc)\n",
    "    mlflow.log_metric(\"AUCPR\",aucpr)\n",
    "    mlflow.sklearn.log_model(clf, \"model\")\n",
    "    \n",
    "    print(\"\\nMultilayer Perceptron\")\n",
    "    print(f\"Accuracy: {acc}\")\n",
    "    print(f\"AUCPR: {aucpr}\")\n",
    "    print(f\"Confusion Matrix {conf_3} \\n\\n\")\n",
    "    \n",
    "\n",
    "    tracking_url_type_store = urlparse(mlflow.get_tracking_uri()).scheme\n",
    "    mlflow.sklearn.log_model(\n",
    "        sk_model=clf,\n",
    "        artifact_path=\"sklearn-model\",\n",
    "        registered_model_name=\"multilayer-perceptron-model\"\n",
    "    )\n",
    "    if tracking_url_type_store != \"file\":\n",
    "        mlflow.sklearn.log_model(clf, \"model\", registered_model_name=\"multilayer-perceptron-model\")\n",
    "    else:\n",
    "        mlflow.sklearn.log_model(clf, \"model\")"
   ]
  },
  {
   "cell_type": "code",
   "execution_count": 69,
   "metadata": {
    "id": "js2AXmn2LM5V"
   },
   "outputs": [
    {
     "name": "stdout",
     "output_type": "stream",
     "text": [
      "<ModelVersion: creation_timestamp=1677333788700, current_stage='None', description=None, last_updated_timestamp=1677333788700, name='multilayer-perceptron-model', run_id='d31c73378b9a4ab3a7b34b1fdb925b24', run_link=None, source='file:///C:/Jupyter%20Lab/CMI/Applied%20Machine%20Learning/Assignment%202/mlruns/0/d31c73378b9a4ab3a7b34b1fdb925b24/artifacts/sklearn-model', status='READY', status_message=None, tags={}, user_id=None, version=1>\n"
     ]
    }
   ],
   "source": [
    "print(mlflow.tracking.MlflowClient().get_model_version(\"multilayer-perceptron-model\", '1'))"
   ]
  },
  {
   "cell_type": "markdown",
   "metadata": {},
   "source": [
    "MLP Classifier has the best performance"
   ]
  },
  {
   "cell_type": "code",
   "execution_count": null,
   "metadata": {},
   "outputs": [],
   "source": []
  }
 ],
 "metadata": {
  "colab": {
   "provenance": []
  },
  "kernelspec": {
   "display_name": "Python 3 (ipykernel)",
   "language": "python",
   "name": "python3"
  },
  "language_info": {
   "codemirror_mode": {
    "name": "ipython",
    "version": 3
   },
   "file_extension": ".py",
   "mimetype": "text/x-python",
   "name": "python",
   "nbconvert_exporter": "python",
   "pygments_lexer": "ipython3",
   "version": "3.9.15"
  },
  "vscode": {
   "interpreter": {
    "hash": "ece77b0843db71273538cad857e71b598e540eebce8583a3625d9bb208bd9e1f"
   }
  }
 },
 "nbformat": 4,
 "nbformat_minor": 4
}
